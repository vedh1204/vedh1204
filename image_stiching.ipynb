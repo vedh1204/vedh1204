{
 "cells": [
  {
   "cell_type": "code",
   "execution_count": 1,
   "id": "241b9ffb-98b9-48f0-b4cc-dfc69aa64370",
   "metadata": {},
   "outputs": [],
   "source": [
    "import rclpy\n"
   ]
  },
  {
   "cell_type": "code",
   "execution_count": 1,
   "id": "b5b60eb4-a3a1-474a-9ba3-4a4bc6e0eac8",
   "metadata": {},
   "outputs": [
    {
     "name": "stdout",
     "output_type": "stream",
     "text": [
      "/usr/bin/python3\n"
     ]
    }
   ],
   "source": [
    "import sys\n",
    "print(sys.executable)\n"
   ]
  },
  {
   "cell_type": "code",
   "execution_count": 2,
   "id": "ab6c4707-a68a-4f7e-9b0a-a4462a06813d",
   "metadata": {},
   "outputs": [
    {
     "name": "stdout",
     "output_type": "stream",
     "text": [
      "Exists color image: False\n",
      "Exists depth image: True\n"
     ]
    }
   ],
   "source": [
    "import os\n",
    "\n",
    "print(\"Exists color image:\", os.path.isfile(\"1_rgb_Color.png\"))\n",
    "print(\"Exists depth image:\", os.path.isfile(\"1_Depth.png\"))\n"
   ]
  },
  {
   "cell_type": "code",
   "execution_count": null,
   "id": "7f72ceee-1a77-4676-bd9a-bc03eaeb50c5",
   "metadata": {},
   "outputs": [],
   "source": [
    "import open3d as o3d\n",
    "import numpy as np\n",
    "import os\n",
    "import cv2\n",
    "\n",
    "image_dir = \"snaps\"\n",
    "num_frames = 11\n",
    "\n",
    "# Depth image resolution\n",
    "depth_width, depth_height = 424, 240\n",
    "fx, fy = 600, 600\n",
    "cx, cy = depth_width / 2, depth_height / 2\n",
    "\n",
    "intrinsic = o3d.camera.PinholeCameraIntrinsic()\n",
    "intrinsic.set_intrinsics(width=depth_width, height=depth_height, fx=fx, fy=fy, cx=cx, cy=cy)\n",
    "\n",
    "pcd_combined = o3d.geometry.PointCloud()\n",
    "\n",
    "for i in range(1, num_frames + 1):\n",
    "    color_path = os.path.join(image_dir, f\"{i}_Color.png\")\n",
    "    depth_path = os.path.join(image_dir, f\"{i}_Depth.png\")\n",
    "    \n",
    "    if not os.path.exists(color_path):\n",
    "        print(f\"❌ Color image not found: {color_path}\")\n",
    "        continue\n",
    "    if not os.path.exists(depth_path):\n",
    "        print(f\"❌ Depth image not found: {depth_path}\")\n",
    "        continue\n",
    "\n",
    "    # Load color image with OpenCV and resize\n",
    "    color_cv = cv2.imread(color_path)\n",
    "    if color_cv is None:\n",
    "        print(f\"⚠️ Skipping frame {i}: Failed to load color image\")\n",
    "        continue\n",
    "    color_cv_resized = cv2.resize(color_cv, (depth_width, depth_height))  # Match depth resolution\n",
    "    color_raw = o3d.geometry.Image(cv2.cvtColor(color_cv_resized, cv2.COLOR_BGR2RGB))\n",
    "\n",
    "    # Load depth image using Open3D\n",
    "    depth_raw = o3d.io.read_image(depth_path)\n",
    "\n",
    "    print(f\"✅ Frame {i}: Loaded and resized\")\n",
    "\n",
    "    rgbd = o3d.geometry.RGBDImage.create_from_color_and_depth(\n",
    "        color_raw,\n",
    "        depth_raw,\n",
    "        depth_scale=1000.0,\n",
    "        depth_trunc=3.0,\n",
    "        convert_rgb_to_intensity=False\n",
    "    )\n",
    "\n",
    "    pcd = o3d.geometry.PointCloud.create_from_rgbd_image(rgbd, intrinsic)\n",
    "\n",
    "    # Flip the point cloud for correct orientation\n",
    "    pcd.transform([[1, 0, 0, 0],\n",
    "                   [0, -1, 0, 0],\n",
    "                   [0, 0, -1, 0],\n",
    "                   [0, 0, 0, 1]])\n",
    "\n",
    "    pcd_combined += pcd\n",
    "\n",
    "# Visualize the final point cloud\n",
    "o3d.visualization.draw_geometries([pcd_combined])\n"
   ]
  },
  {
   "cell_type": "code",
   "execution_count": null,
   "id": "92a57467-2e49-4d46-83ae-ddff0aa764a7",
   "metadata": {},
   "outputs": [
    {
     "name": "stdout",
     "output_type": "stream",
     "text": [
      "Jupyter environment detected. Enabling Open3D WebVisualizer.\n",
      "[Open3D INFO] WebRTC GUI backend enabled.\n",
      "[Open3D INFO] WebRTCWindowSystem: HTTP handshake server disabled.\n"
     ]
    }
   ],
   "source": [
    "import open3d as o3d\n",
    "import numpy as np\n",
    "import cv2\n",
    "import os\n",
    "import struct\n",
    "\n",
    "image_dir = \"snaps\"\n",
    "num_frames = 11\n",
    "\n",
    "# Depth resolution\n",
    "depth_width, depth_height = 424, 240\n",
    "fx, fy = 600.0, 600.0\n",
    "cx, cy = depth_width / 2.0, depth_height / 2.0\n",
    "\n",
    "intrinsic = o3d.camera.PinholeCameraIntrinsic()\n",
    "intrinsic.set_intrinsics(depth_width, depth_height, fx, fy, cx, cy)\n",
    "\n",
    "pcd_combined = o3d.geometry.PointCloud()\n",
    "\n",
    "for i in range(1, num_frames + 1):\n",
    "    color_path = os.path.join(image_dir, f\"{i}_Color.png\")\n",
    "    depth_raw_path = os.path.join(image_dir, f\"{i}_Depth.raw\")\n",
    "    \n",
    "    if not os.path.exists(color_path) or not os.path.exists(depth_raw_path):\n",
    "        print(f\"❌ Missing files for frame {i}\")\n",
    "        continue\n",
    "\n",
    "    # Load color image\n",
    "    color_cv = cv2.imread(color_path)\n",
    "    color_resized = cv2.resize(color_cv, (depth_width, depth_height))\n",
    "    color_o3d = o3d.geometry.Image(cv2.cvtColor(color_resized, cv2.COLOR_BGR2RGB))\n",
    "\n",
    "    # Load raw depth data (assumed 16-bit unsigned short in .raw file)\n",
    "    with open(depth_raw_path, \"rb\") as f:\n",
    "        depth_data = np.frombuffer(f.read(), dtype=np.uint16).reshape((depth_height, depth_width))\n",
    "\n",
    "    # Optional: Bilateral filtering to clean up noise (optional and slow)\n",
    "    # depth_data = cv2.bilateralFilter(depth_data.astype(np.float32), d=5, sigmaColor=75, sigmaSpace=75).astype(np.uint16)\n",
    "\n",
    "    depth_o3d = o3d.geometry.Image(depth_data)\n",
    "\n",
    "    print(f\"✅ Frame {i} loaded: color and depth\")\n",
    "\n",
    "    # Combine into RGBD image\n",
    "    rgbd = o3d.geometry.RGBDImage.create_from_color_and_depth(\n",
    "        color_o3d,\n",
    "        depth_o3d,\n",
    "        depth_scale=1000.0,\n",
    "        depth_trunc=3.0,\n",
    "        convert_rgb_to_intensity=False\n",
    "    )\n",
    "\n",
    "    pcd = o3d.geometry.PointCloud.create_from_rgbd_image(rgbd, intrinsic)\n",
    "\n",
    "    # Flip to match Open3D coordinate system\n",
    "    pcd.transform([[1, 0, 0, 0],\n",
    "                   [0, -1, 0, 0],\n",
    "                   [0, 0, -1, 0],\n",
    "                   [0, 0, 0, 1]])\n",
    "\n",
    "    pcd_combined += pcd\n",
    "\n",
    "# Optional: downsample point cloud\n",
    "# pcd_combined = pcd_combined.voxel_down_sample(voxel_size=0.005)\n",
    "\n",
    "# Visualize\n",
    "o3d.visualization.draw_geometries([pcd_combined])\n",
    "\n",
    "# Save result\n",
    "# o3d.io.write_point_cloud(\"chair_pointcloud.ply\", pcd_combined)\n",
    "o3d.io.write_point_cloud(\"combined_pointcloud.ply\", pcd_combined)\n"
   ]
  },
  {
   "cell_type": "code",
   "execution_count": null,
   "id": "46f66cf2-c0c9-4753-98f4-d39983cfca43",
   "metadata": {},
   "outputs": [],
   "source": [
    "import open3d as o3d\n",
    "import numpy as np\n",
    "\n",
    "# Load combined point cloud (from previous step)\n",
    "pcd = pcd_combined\n",
    "\n",
    "# Estimate normals for plane segmentation\n",
    "pcd.estimate_normals(search_param=o3d.geometry.KDTreeSearchParamHybrid(\n",
    "    radius=0.02, max_nn=30))\n",
    "\n",
    "# Segment the largest plane using RANSAC\n",
    "plane_model, inliers = pcd.segment_plane(distance_threshold=0.01,\n",
    "                                         ransac_n=3,\n",
    "                                         num_iterations=1000)\n",
    "[a, b, c, d] = plane_model\n",
    "print(f\"✅ Plane equation: {a:.2f}x + {b:.2f}y + {c:.2f}z + {d:.2f} = 0\")\n",
    "\n",
    "# Extract points that are NOT part of the plane\n",
    "pcd_without_plane = pcd.select_by_index(inliers, invert=True)\n",
    "\n",
    "# Optional: Remove outliers\n",
    "pcd_clean = pcd_without_plane.remove_statistical_outlier(nb_neighbors=20, std_ratio=2.0)[0]\n",
    "\n",
    "# Optional: Further cluster to isolate the largest object (likely the chair)\n",
    "labels = np.array(pcd_clean.cluster_dbscan(eps=0.02, min_points=20, print_progress=True))\n",
    "largest_cluster_idx = np.argmax(np.bincount(labels[labels >= 0]))\n",
    "chair = pcd_clean.select_by_index(np.where(labels == largest_cluster_idx)[0])\n",
    "\n",
    "# Visualize\n",
    "o3d.visualization.draw_geometries([chair], window_name=\"Chair Isolated\")\n",
    "\n",
    "# Save result\n",
    "o3d.io.write_point_cloud(\"/home/chair_only.ply\", chair)\n",
    "\n"
   ]
  },
  {
   "cell_type": "code",
   "execution_count": null,
   "id": "89d04d23-2249-4a2e-b8be-c3c3e63bf171",
   "metadata": {},
   "outputs": [],
   "source": [
    "# Poisson surface reconstruction (best for closed surfaces)\n",
    "mesh, _ = o3d.geometry.TriangleMesh.create_from_point_cloud_poisson(chair, depth=9)\n",
    "\n",
    "# Crop to bounding box (optional, removes weird outer mesh)\n",
    "bbox = chair.get_axis_aligned_bounding_box()\n",
    "mesh = mesh.crop(bbox)\n",
    "\n",
    "# Save the mesh\n",
    "o3d.io.write_triangle_mesh(\"chair_mesh.dae\", mesh)  # or .stl\n"
   ]
  },
  {
   "cell_type": "code",
   "execution_count": 1,
   "id": "04133261-c320-4c50-84d5-8673c4cf8933",
   "metadata": {},
   "outputs": [
    {
     "name": "stdout",
     "output_type": "stream",
     "text": [
      "Jupyter environment detected. Enabling Open3D WebVisualizer.\n",
      "[Open3D INFO] WebRTC GUI backend enabled.\n",
      "[Open3D INFO] WebRTCWindowSystem: HTTP handshake server disabled.\n",
      "\u001b[1;33m[Open3D WARNING] Read PLY failed: unable to read file: vedh_ros/combined_pointcloud.ply\u001b[0;m\n"
     ]
    },
    {
     "name": "stderr",
     "output_type": "stream",
     "text": [
      "RPly: Error reading 'y' of 'vertex' number 38828\n"
     ]
    },
    {
     "name": "stdout",
     "output_type": "stream",
     "text": [
      "\u001b[1;33m[Open3D WARNING] Write geometry::TriangleMesh failed: unknown file extension.\u001b[0;m\n"
     ]
    },
    {
     "name": "stderr",
     "output_type": "stream",
     "text": [
      "[WARNING] /root/Open3D/build/poisson/src/ext_poisson/PoissonRecon/Src/FEMTree.Initialize.inl (Line 218)\n",
      "          Initialize\n",
      "          Found bad sample nodes: 1\n"
     ]
    },
    {
     "data": {
      "text/plain": [
       "False"
      ]
     },
     "execution_count": 1,
     "metadata": {},
     "output_type": "execute_result"
    }
   ],
   "source": [
    "import open3d as o3d\n",
    "\n",
    "# Load PLY file\n",
    "pcd = o3d.io.read_point_cloud(\"vedh_ros/combined_pointcloud.ply\")\n",
    "\n",
    "# Estimate mesh from point cloud (Poisson surface reconstruction, optional)\n",
    "pcd.estimate_normals()\n",
    "mesh, _ = o3d.geometry.TriangleMesh.create_from_point_cloud_poisson(pcd, depth=9)\n",
    "\n",
    "# Save to DAE\n",
    "o3d.io.write_triangle_mesh(\"your_model.dae\", mesh)\n"
   ]
  },
  {
   "cell_type": "code",
   "execution_count": 6,
   "id": "37979c8a-8b7a-4ce7-905e-29dd0e97ee05",
   "metadata": {},
   "outputs": [
    {
     "name": "stdout",
     "output_type": "stream",
     "text": [
      "📁 Saved to: /home/vedh/chair_only.ply\n"
     ]
    }
   ],
   "source": [
    "import os\n",
    "print(\"📁 Saved to:\", os.path.abspath(\"chair_only.ply\"))\n"
   ]
  },
  {
   "cell_type": "code",
   "execution_count": null,
   "id": "bc0618ec-4f98-4d1c-8101-f7b7a76925e4",
   "metadata": {},
   "outputs": [],
   "source": []
  }
 ],
 "metadata": {
  "kernelspec": {
   "display_name": "Python 3 (ipykernel)",
   "language": "python",
   "name": "python3"
  },
  "language_info": {
   "codemirror_mode": {
    "name": "ipython",
    "version": 3
   },
   "file_extension": ".py",
   "mimetype": "text/x-python",
   "name": "python",
   "nbconvert_exporter": "python",
   "pygments_lexer": "ipython3",
   "version": "3.10.12"
  }
 },
 "nbformat": 4,
 "nbformat_minor": 5
}
