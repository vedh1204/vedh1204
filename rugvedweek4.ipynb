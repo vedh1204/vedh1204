{
 "cells": [
  {
   "cell_type": "code",
   "execution_count": null,
   "id": "8912160d-76a3-4544-852d-4986a9726951",
   "metadata": {},
   "outputs": [],
   "source": [
    "import cv2 \n",
    "import numpy as np\n",
    "import matplotlib.pyplot as plt\n",
    "img=cv2.imread(r'C:\\Users\\sride\\OneDrive\\Pictures\\Screenshots\\Screenshot (226).png')"
   ]
  },
  {
   "cell_type": "code",
   "execution_count": null,
   "id": "8ed42894-09f5-4405-8464-878faac2674e",
   "metadata": {},
   "outputs": [],
   "source": [
    "plt.imshow(img)\n",
    "plt.axis('off')\n",
    "plt.show()\n",
    "def rescale(img,scale=0.5):\n",
    "    width=int(img.shape[1]*scale)\n",
    "    height=int(img.shape[0]*scale)\n",
    "    dim=(width,height)\n",
    "    return cv.resize(img,dim,interpolation=cv.INTER_AREA)\n",
    "fream = rescale(img)\n",
    "plt.imshow(fream)\n",
    "plt.show()"
   ]
  },
  {
   "cell_type": "code",
   "execution_count": null,
   "id": "932b3541-d6e9-417b-8084-65615d658176",
   "metadata": {},
   "outputs": [],
   "source": [
    "## playing a video frame by frame\n",
    "def ball():\n",
    "    while True:\n",
    "        istrue, frame = cap.read()\n",
    "        if not istrue:\n",
    "            print(\"Failed to capture frame\")\n",
    "            break\n",
    "            plt.imshow(frame)\n",
    "         plt.axis('off')\n",
    "        if cv2.waitKey(20) & 0xFF == ord('d'):\n",
    "            break\n",
    "    cap.release()\n",
    "    cv2.destroyAllWindows()\n",
    "ball()"
   ]
  },
  {
   "cell_type": "code",
   "execution_count": null,
   "id": "168f75dc-1cfd-495f-ab01-cbc0b57ce75b",
   "metadata": {
    "scrolled": true
   },
   "outputs": [],
   "source": [
    "blank=np.zeros((1000,1000,3), dtype='uint8')\n",
    "blank[:]=0,0,255\n",
    "plt.imshow(blank)\n",
    "plt.show()\n",
    "## cv.shape(img_name,point1,point2,clour,thickness)\n",
    "cv.rectangle(blank,(50,50),(400,500),(0,250,0),thickness=50)\n",
    "plt.imshow(blank)\n",
    "plt.show()"
   ]
  },
  {
   "cell_type": "code",
   "execution_count": null,
   "id": "362bffb3-63db-44dd-b202-356c2be0b1ab",
   "metadata": {},
   "outputs": [],
   "source": [
    "blank=np.zeros((1000,1000,3), dtype='uint8')\n",
    "## cv.shape(img_name,point1,point2,radius,clour,thickness)\n",
    "cv.circle(blank,(250,250),200,(0,255,0),thickness=6)\n",
    "cv.line(blank,(0,0),(200,500),(0,255,0),thickness=6)\n",
    "plt.imshow(blank)\n",
    "plt.show()"
   ]
  },
  {
   "cell_type": "code",
   "execution_count": null,
   "id": "25a0b930-5838-4b2a-9c99-1136f55f347c",
   "metadata": {},
   "outputs": [],
   "source": [
    "blank=np.zeros((1000,1000,3), dtype='uint8')\n",
    "##text in images (VERY VERY importnant)\n",
    "## cv.text(img_name,'input',(orgin),font,scale of font,colour,thickness)\n",
    "cv.putText(blank,'vedhishigher',(300,500),cv.FONT_HERSHEY_TRIPLEX,1.5,(0,0,255),5)\n",
    "plt.imshow(blank)\n",
    "plt.show()"
   ]
  },
  {
   "cell_type": "code",
   "execution_count": null,
   "id": "1735baec-ca44-4786-aa4c-f0c388d0324f",
   "metadata": {},
   "outputs": [],
   "source": [
    "# converting to diff types of images\n",
    "\n",
    "gray=cv.cvtColor(img,cv.COLOR_BGR2GRAY)\n",
    "plt.imshow(gray)\n",
    "plt.show"
   ]
  },
  {
   "cell_type": "code",
   "execution_count": null,
   "id": "3127a622-3e26-4db8-ac9e-586e6a10d380",
   "metadata": {},
   "outputs": [],
   "source": [
    "# applying a blur (size should always be odd number)\n",
    "\n",
    "blur=cv.GaussianBlur(img,(9,9),3)\n",
    "plt.imshow(blur)\n",
    "plt.show()"
   ]
  },
  {
   "cell_type": "code",
   "execution_count": null,
   "id": "204eaaf5-9617-415f-b918-cfba88b52ce2",
   "metadata": {},
   "outputs": [],
   "source": [
    "# edges  (threshlod1,threshold2)\n",
    "\n",
    "edg=cv.Canny(blur,125,175)\n",
    "plt.imshow(edg)\n",
    "plt.show"
   ]
  },
  {
   "cell_type": "code",
   "execution_count": null,
   "id": "f9f8a0fa-7dc7-431d-9cc2-9373b449d2bf",
   "metadata": {},
   "outputs": [],
   "source": [
    "# shifting of image\n",
    "\n",
    "def translate(img,x,y):\n",
    "    transmat = np.float32([[1,0,x],[0,1,y]])\n",
    "    dimensions=(img.shape[1],img.shape[0])\n",
    "    return cv.warpAffine (img,transmat,dimensions)\n",
    "gg= translate(img,500,500)\n",
    "plt.imshow(gg)\n",
    "plt.show()\n",
    "    "
   ]
  },
  {
   "cell_type": "code",
   "execution_count": null,
   "id": "ed499da1-fbf0-4df7-b648-8b975643e283",
   "metadata": {},
   "outputs": [],
   "source": [
    "# rotation\n",
    "\n",
    "def rot(img,angle,point_of_rotation=None):\n",
    "    if point_of_rotation is None:\n",
    "        point_of_rotation=(1000,500)\n",
    "        (width,height)=img.shape[:2]\n",
    "    rotated=cv.getRotationMatrix2D(point_of_rotation,angle,1.0)\n",
    "    dim=(width,height)\n",
    "    return cv.warpAffine(img,rotated,dim)\n",
    "ggg= rot(img,90)\n",
    "plt.imshow(ggg)\n",
    "plt.show()"
   ]
  },
  {
   "cell_type": "code",
   "execution_count": null,
   "id": "b4a83ba3-df98-42b8-8320-13c74237ca95",
   "metadata": {},
   "outputs": [],
   "source": [
    "# flipping either 0,1,-1\n",
    "\n",
    "flip=cv.flip(img ,0)\n",
    "plt.imshow(flip)\n",
    "plt.show()"
   ]
  },
  {
   "cell_type": "code",
   "execution_count": null,
   "id": "47d3b78d-ae5a-4fc4-8ea0-16873d02e678",
   "metadata": {},
   "outputs": [],
   "source": [
    "# contour used in detection\n",
    "\n",
    "\n",
    "ret ,thresh=cv.threshold(edg,125,250,cv.THRESH_BINARY)\n",
    "contours,hierarchies= cv.findContours(edg,cv.RETR_LIST,cv.CHAIN_APPROX_SIMPLE)\n",
    "print(f\"{len(contours)}\")\n",
    "plt.imshow(thresh)\n",
    "plt.show()\n",
    "blank=np.zeros(img.shape, dtype='uint8')\n",
    "cdraw=cv.drawContours(blank,contours,-1,(0,255,0),1)\n",
    "plt.imshow(cdraw)\n",
    "plt.show()"
   ]
  },
  {
   "cell_type": "code",
   "execution_count": null,
   "id": "cb4215fb-5e53-4faf-bbeb-15054c508aa6",
   "metadata": {},
   "outputs": [],
   "source": [
    "# color changing and also HSV which is better for definig image\n",
    "\n",
    "imgc=cv.cvtColor(img,cv.COLOR_BGR2HSV)\n",
    "imgl=cv.cvtColor(img,cv.COLOR_BGR2LAB)\n",
    "plt.imshow(imgl)\n",
    "plt.show()\n",
    "plt.imshow(imgc)\n",
    "plt.show()"
   ]
  },
  {
   "cell_type": "code",
   "execution_count": null,
   "id": "a7e32ab7-da4b-4009-9f55-b130cf3bd61a",
   "metadata": {},
   "outputs": [],
   "source": [
    "# color splitting\n",
    "\n",
    "b,g,r=cv.split(img)\n",
    "plt.imshow(img)\n",
    "plt.show()\n",
    "plt.imshow(r)\n",
    "plt.show()\n",
    "print(img.shape)\n",
    "print(g.shape)\n",
    "print(r.shape)\n",
    "print(\"n\\n\\n\\n\\n\")\n",
    "merge=cv.merge([b,g,r])\n",
    "plt.imshow(merge)\n",
    "plt.show()"
   ]
  },
  {
   "cell_type": "code",
   "execution_count": null,
   "id": "6a325651-65da-423b-8a45-f0a42a369a12",
   "metadata": {},
   "outputs": [],
   "source": [
    "# diff type of blur (kernal always odd)\n",
    "\n",
    "blr=cv.blur(img,(51,51))\n",
    "plt.imshow(blr)\n",
    "plt.show()"
   ]
  },
  {
   "cell_type": "code",
   "execution_count": null,
   "id": "d94971c8-3cbc-4be9-b9e3-c336559165d0",
   "metadata": {},
   "outputs": [],
   "source": [
    "# bitwise operators\n",
    "\n",
    "blank=np.zeros(img.shape, dtype='uint8')\n",
    "rect=cv.rectangle(blank,(100,100),(800,800),255,-1)\n",
    "circle=cv.circle(blank,(500,500),500,255,-1)\n",
    "\n",
    "# bitwise and operator \n",
    "\n",
    "bit_and=cv.bitwise_and(rect,circle)\n",
    "\n",
    "# bitwise or operator\n",
    "\n",
    "bit_or=cv.bitwise_or(rect,circle)\n",
    "\n",
    "plt.imshow(bit_or)\n",
    "plt.show()\n",
    "plt.imshow(bit_and)\n",
    "plt.show()"
   ]
  },
  {
   "cell_type": "code",
   "execution_count": null,
   "id": "30ba4ec1-3a1a-4072-9612-cf4c23164c34",
   "metadata": {},
   "outputs": [],
   "source": [
    "# bitwise XOR\n",
    "XOR=cv.bitwise_xor(rect,circle)\n",
    "plt.imshow(XOR)\n",
    "plt.show()"
   ]
  },
  {
   "cell_type": "code",
   "execution_count": null,
   "id": "e6231025-0ec2-4c98-8f8c-6aeaa98d1776",
   "metadata": {},
   "outputs": [],
   "source": [
    "# masking\n",
    "\n",
    "mask=cv.bitwise_and(img,img,mask=circle)\n",
    "plt.imshow(mask)\n",
    "plt.show()\n"
   ]
  },
  {
   "cell_type": "code",
   "execution_count": null,
   "id": "be1b4f94-44a5-47b3-87a6-762b4aca4a58",
   "metadata": {},
   "outputs": [],
   "source": []
  },
  {
   "cell_type": "code",
   "execution_count": null,
   "id": "9a0ec76c-b290-4e39-852c-28b0e3a97e3b",
   "metadata": {},
   "outputs": [],
   "source": []
  }
 ],
 "metadata": {
  "kernelspec": {
   "display_name": "Python 3 (ipykernel)",
   "language": "python",
   "name": "python3"
  },
  "language_info": {
   "codemirror_mode": {
    "name": "ipython",
    "version": 3
   },
   "file_extension": ".py",
   "mimetype": "text/x-python",
   "name": "python",
   "nbconvert_exporter": "python",
   "pygments_lexer": "ipython3",
   "version": "3.13.0"
  }
 },
 "nbformat": 4,
 "nbformat_minor": 5
}
