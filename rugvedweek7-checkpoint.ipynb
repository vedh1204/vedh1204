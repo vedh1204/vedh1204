{
 "cells": [
  {
   "cell_type": "code",
   "execution_count": null,
   "id": "b1b45e57-d1a5-4d94-86ea-911dc0a9e0b2",
   "metadata": {},
   "outputs": [],
   "source": [
    "import zipfile\n",
    "import os\n",
    "zip_path = \"mnist.zip\"  \n",
    "extract_path = \"mnist_data\"\n",
    "with zipfile.ZipFile(zip_path, 'r') as zip_ref:\n",
    "    zip_ref.extractall(extract_path)\n",
    "print(\"Extraction complete.\")"
   ]
  },
  {
   "cell_type": "code",
   "execution_count": null,
   "id": "bb078cfd-0d0c-4d0f-9dbc-c0ade6bfd1ae",
   "metadata": {},
   "outputs": [],
   "source": [
    "import os\n",
    "extracted_files_dir = 'extracted_files'\n",
    "files = os.listdir(extracted_files_dir)\n",
    "print(\"Extracted files:\", files)"
   ]
  },
  {
   "cell_type": "code",
   "execution_count": null,
   "id": "cfeb7846-b502-4078-bf87-138c9a69ab89",
   "metadata": {},
   "outputs": [],
   "source": [
    "import os\n",
    "\n",
    "extracted_files = os.listdir('data')\n",
    "print(extracted_files)\n"
   ]
  },
  {
   "cell_type": "code",
   "execution_count": null,
   "id": "e42bddfb-07f4-4394-90d2-048f28c60d74",
   "metadata": {},
   "outputs": [],
   "source": [
    "import os\n",
    "print(\"Current Working Directory:\", os.getcwd())\n"
   ]
  },
  {
   "cell_type": "code",
   "execution_count": null,
   "id": "25aca1bb-16d1-419d-a24f-7933a14190c6",
   "metadata": {},
   "outputs": [],
   "source": [
    "import zipfile\n",
    "\n",
    "zip_path = \"t10k-images.idx3-ubyte.zip\"\n",
    "extract_dir = \"./extracted_files\"\n",
    "\n",
    "with zipfile.ZipFile(zip_path, \"r\") as zip_ref:\n",
    "    zip_ref.extractall(extract_dir)\n",
    "\n",
    "print(\"Extracted files:\", os.listdir(extract_dir))\n"
   ]
  },
  {
   "cell_type": "code",
   "execution_count": null,
   "id": "dd2c3f47-f035-4665-9ab6-df418c94d31d",
   "metadata": {},
   "outputs": [],
   "source": [
    "filename = \"./extracted_files/t10k-images.idx3-ubyte\"\n",
    "images = load_idx_images(filename)\n"
   ]
  },
  {
   "cell_type": "code",
   "execution_count": 22,
   "id": "3c0fde8b-e1e0-4f0e-99c5-9a29cde63f49",
   "metadata": {},
   "outputs": [
    {
     "name": "stdout",
     "output_type": "stream",
     "text": [
      "Epoch 0, Loss: 9616.6335\n"
     ]
    },
    {
     "data": {
      "image/png": "[encoded data removed]",
      "text/plain": [
       "<Figure size 640x480 with 1 Axes>"
      ]
     },
     "metadata": {},
     "output_type": "display_data"
    }
   ],
   "source": [
    "import numpy as np\n",
    "import struct\n",
    "import matplotlib.pyplot as plt\n",
    "def load_images(path):\n",
    "    with open(path, \"rb\") as f:\n",
    "        _, num, rows, cols = struct.unpack(\">IIII\", f.read(16))\n",
    "        return np.frombuffer(f.read(), dtype=np.uint8).reshape(num, rows * cols)\n",
    "def load_labels(path):\n",
    "    with open(path, \"rb\") as f:\n",
    "        _, num = struct.unpack(\">II\", f.read(8))\n",
    "        return np.frombuffer(f.read(), dtype=np.uint8)\n",
    "def sigmoid(x): return 1 / (1 + np.exp(-x))\n",
    "def sigmoid_deriv(x): return x * (1 - x)\n",
    "X = load_images(\"./extracted_files/t10k-images.idx3-ubyte\") / 255.0  # Normalize\n",
    "y = np.eye(10)[load_labels(\"./extracted_files/t10k-labels.idx1-ubyte\")]  # One-hot encode\n",
    "input_neurons, hidden_neurons, output_neurons = 784, 128, 10\n",
    "np.random.seed(42)\n",
    "W1, W2 = np.random.randn(input_neurons, hidden_neurons) * 0.01, np.random.randn(hidden_neurons, output_neurons) * 0.01\n",
    "def forward(X_batch):\n",
    "    h_in = np.dot(X_batch, W1)\n",
    "    h_out = sigmoid(h_in)\n",
    "    o_in = np.dot(h_out, W2)\n",
    "    o_out = sigmoid(o_in)\n",
    "    return o_out, h_out\n",
    "def train(X, y, epochs=1000, lr=0.1, batch_size=32):\n",
    "    global W1, W2\n",
    "    num_samples = X.shape[0]\n",
    "    for epoch in range(epochs):\n",
    "        loss = 0\n",
    "        indices = np.random.permutation(num_samples)\n",
    "        X_shuffled = X[indices]\n",
    "        y_shuffled = y[indices]\n",
    "        for i in range(0, num_samples, batch_size):\n",
    "            X_batch = X_shuffled[i:i+batch_size]\n",
    "            y_batch = y_shuffled[i:i+batch_size]\n",
    "            out, h_out = forward(X_batch)\n",
    "            err = y_batch - out\n",
    "            loss += np.sum(err ** 2)\n",
    "            d_out = err * sigmoid_deriv(out)\n",
    "            d_hid = np.dot(d_out, W2.T) * sigmoid_deriv(h_out)\n",
    "            W2 += np.dot(h_out.T, d_out) * lr\n",
    "            W1 += np.dot(X_batch.T, d_hid) * lr\n",
    "\n",
    "        if epoch % 100 == 0:\n",
    "            print(f\"Epoch {epoch}, Loss: {loss:.4f}\")\n",
    "train(X, y, epochs=100, lr=0.1, batch_size=32)\n",
    "test_img = X[0]\n",
    "pred, _ = forward(test_img.reshape(1, -1))\n",
    "\n",
    "plt.imshow(test_img.reshape(28, 28), cmap=\"gray\")\n",
    "plt.title(f\"Predicted: {np.argmax(pred)}\")\n",
    "plt.show()"
   ]
  }
 ],
 "metadata": {
  "kernelspec": {
   "display_name": "Python 3 (ipykernel)",
   "language": "python",
   "name": "python3"
  },
  "language_info": {
   "codemirror_mode": {
    "name": "ipython",
    "version": 3
   },
   "file_extension": ".py",
   "mimetype": "text/x-python",
   "name": "python",
   "nbconvert_exporter": "python",
   "pygments_lexer": "ipython3",
   "version": "3.13.1"
  }
 },
 "nbformat": 4,
 "nbformat_minor": 5
}
