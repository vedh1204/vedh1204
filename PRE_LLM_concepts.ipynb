{
 "cells": [
  {
   "cell_type": "code",
   "execution_count": 1,
   "id": "0c739ec9-306e-4a2c-8179-e994b3216e30",
   "metadata": {},
   "outputs": [],
   "source": [
    "# Embedding"
   ]
  },
  {
   "cell_type": "code",
   "execution_count": 3,
   "id": "d615394e-bd23-4a5a-b81d-958e9fc2e2ee",
   "metadata": {},
   "outputs": [
    {
     "name": "stdout",
     "output_type": "stream",
     "text": [
      "\n",
      "Input sentence: 'i am vedh'\n",
      "Word indices: [2, 1, 1]\n",
      "Embedding shape: torch.Size([3, 8])\n",
      "Embeddings:\n",
      " tensor([[-1.2928, -0.1193,  0.1560, -1.1775, -0.2485, -0.1636,  0.7119,  0.6143],\n",
      "        [-1.0409,  0.6119,  0.5584, -2.1784,  0.7289,  0.7069,  1.1904,  0.6467],\n",
      "        [-1.0409,  0.6119,  0.5584, -2.1784,  0.7289,  0.7069,  1.1904,  0.6467]],\n",
      "       grad_fn=<EmbeddingBackward0>)\n"
     ]
    }
   ],
   "source": [
    "import torch\n",
    "import torch.nn as nn\n",
    "\n",
    "# Step 1: Define vocabulary\n",
    "vocab = ['<pad>', '<unk>', 'i', 'love', 'nlp', 'hello', 'world', 'machine', 'learning']\n",
    "word_to_idx = {word: idx for idx, word in enumerate(vocab)}\n",
    "idx_to_word = {idx: word for word, idx in word_to_idx.items()}\n",
    "\n",
    "# Step 2: Define embedding layer\n",
    "vocab_size = len(vocab)\n",
    "embedding_dim = 8\n",
    "\n",
    "embedding_layer = nn.Embedding(num_embeddings=vocab_size, embedding_dim=embedding_dim)\n",
    "\n",
    "# Step 3: Tokenizer\n",
    "def tokenize(sentence):\n",
    "    return sentence.lower().split()\n",
    "\n",
    "def sentence_to_indices(sentence):\n",
    "    tokens = tokenize(sentence)\n",
    "    indices = [word_to_idx.get(token, word_to_idx['<unk>']) for token in tokens]\n",
    "    return torch.tensor(indices, dtype=torch.long)\n",
    "\n",
    "# Step 4: Embed any input sentence\n",
    "def embed_sentence(sentence):\n",
    "    indices = sentence_to_indices(sentence)\n",
    "    embeddings = embedding_layer(indices)\n",
    "    return embeddings\n",
    "\n",
    "# === 🚀 TEST ===\n",
    "input_sentence = \"i am vedh\"\n",
    "embedded = embed_sentence(input_sentence)\n",
    "\n",
    "print(f\"\\nInput sentence: '{input_sentence}'\")\n",
    "print(\"Word indices:\", sentence_to_indices(input_sentence).tolist())\n",
    "print(\"Embedding shape:\", embedded.shape)\n",
    "print(\"Embeddings:\\n\", embedded)\n"
   ]
  },
  {
   "cell_type": "code",
   "execution_count": null,
   "id": "649427e2-fd98-4f9c-926c-8b39ef64ee40",
   "metadata": {},
   "outputs": [],
   "source": []
  }
 ],
 "metadata": {
  "kernelspec": {
   "display_name": "Python 3.10 (CNN)",
   "language": "python",
   "name": "python310-cnn"
  },
  "language_info": {
   "codemirror_mode": {
    "name": "ipython",
    "version": 3
   },
   "file_extension": ".py",
   "mimetype": "text/x-python",
   "name": "python",
   "nbconvert_exporter": "python",
   "pygments_lexer": "ipython3",
   "version": "3.10.0"
  }
 },
 "nbformat": 4,
 "nbformat_minor": 5
}
