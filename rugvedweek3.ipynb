{
 "cells": [
  {
   "cell_type": "code",
   "execution_count": 1,
   "id": "691e29cf-78ee-4af4-8017-3d0b6e9cb74a",
   "metadata": {},
   "outputs": [],
   "source": [
    "import pandas as pd\n",
    "import numpy as np\n",
    "import matplotlib.pyplot as plt\n",
    "df=pd.read_csv('matches.csv')"
   ]
  },
  {
   "cell_type": "code",
   "execution_count": null,
   "id": "57f97d34-59d1-4056-a37c-e7ecbf528d28",
   "metadata": {
    "scrolled": true
   },
   "outputs": [],
   "source": [
    "df.head()"
   ]
  },
  {
   "cell_type": "code",
   "execution_count": null,
   "id": "79d39d16-f14c-4549-a9e0-d7df7295fce4",
   "metadata": {},
   "outputs": [],
   "source": [
    "##q1\n",
    "df[df.season>2008]"
   ]
  },
  {
   "cell_type": "code",
   "execution_count": null,
   "id": "085bfb3d-9b59-454a-b0d8-d63b56bff9ac",
   "metadata": {},
   "outputs": [],
   "source": [
    "##q2\n",
    "min_=df['city'].value_counts().idxmin()\n",
    "max_=df['city'].value_counts().idxmax()\n",
    "print(f\"lowest matches {min_}\")\n",
    "print(f\"highest matches {max_}\")"
   ]
  },
  {
   "cell_type": "code",
   "execution_count": null,
   "id": "cdfb682f-541f-4ee1-a5d5-ccb7a474c20a",
   "metadata": {},
   "outputs": [],
   "source": [
    "##q3\n",
    "df['city'].value_counts()"
   ]
  },
  {
   "cell_type": "code",
   "execution_count": 2,
   "id": "aa4d49b5-ecf0-406d-9d34-b73e3a75566b",
   "metadata": {},
   "outputs": [
    {
     "name": "stdout",
     "output_type": "stream",
     "text": [
      "lowest toss winners Rising Pune Supergiant\n",
      "hisghest toss winners Mumbai Indians\n"
     ]
    }
   ],
   "source": [
    "##q4\n",
    "min_t=df['toss_winner'].value_counts().idxmin()\n",
    "max_t=df['toss_winner'].value_counts().idxmax()\n",
    "print(f\"lowest toss winners {min_t}\")\n",
    "print(f\"hisghest toss winners {max_t}\")"
   ]
  },
  {
   "cell_type": "code",
   "execution_count": 3,
   "id": "540d2b9a-2d58-42fd-bfb2-d94f2843af5a",
   "metadata": {},
   "outputs": [
    {
     "name": "stdout",
     "output_type": "stream",
     "text": [
      "lowest toss winners Rising Pune Supergiant\n",
      "\n",
      "\n",
      "1     field\n",
      "8     field\n",
      "24    field\n",
      "37    field\n",
      "39    field\n",
      "53    field\n",
      "Name: toss_decision, dtype: object\n",
      "\n",
      "\n",
      "hisghest toss winners Mumbai Indians\n",
      "\n",
      "decisions taken by the team with highest toss wins\n",
      "6      field\n",
      "9      field\n",
      "11     field\n",
      "15     field\n",
      "21     field\n",
      "       ...  \n",
      "729      bat\n",
      "742    field\n",
      "746      bat\n",
      "751    field\n",
      "755      bat\n",
      "Name: toss_decision, Length: 98, dtype: object\n"
     ]
    }
   ],
   "source": [
    "##q5\n",
    "min_t=df['toss_winner'].value_counts().idxmin()\n",
    "max_t=df['toss_winner'].value_counts().idxmax()\n",
    "print(f\"lowest toss winners {min_t}\\n\\n\")\n",
    "deci=df[df['toss_winner']==df['toss_winner'].value_counts().idxmin()]\n",
    "print(deci['toss_decision'])\n",
    "print(f\"\\n\\nhisghest toss winners {max_t}\\n\")\n",
    "print(\"decisions taken by the team with highest toss wins\")\n",
    "deci=df[df['toss_winner']==df['toss_winner'].value_counts().idxmax()]\n",
    "print(deci['toss_decision'])"
   ]
  },
  {
   "cell_type": "code",
   "execution_count": 4,
   "id": "8590f221-a121-42f6-82f0-cd5fa9589bb2",
   "metadata": {},
   "outputs": [
    {
     "data": {
      "text/plain": [
       "result\n",
       "normal       743\n",
       "tie            9\n",
       "no result      4\n",
       "Name: count, dtype: int64"
      ]
     },
     "execution_count": 4,
     "metadata": {},
     "output_type": "execute_result"
    }
   ],
   "source": [
    "##q6\n",
    "df['result'].value_counts()"
   ]
  },
  {
   "cell_type": "code",
   "execution_count": 5,
   "id": "757b79e0-8691-4b3f-b66d-39015cddfa0d",
   "metadata": {},
   "outputs": [
    {
     "name": "stdout",
     "output_type": "stream",
     "text": [
      "                           team1                        team2\n",
      "33                 Gujarat Lions               Mumbai Indians\n",
      "125             Rajasthan Royals        Kolkata Knight Riders\n",
      "189              Kings XI Punjab          Chennai Super Kings\n",
      "387  Royal Challengers Bangalore          Sunrisers Hyderabad\n",
      "400             Delhi Daredevils  Royal Challengers Bangalore\n",
      "475             Rajasthan Royals        Kolkata Knight Riders\n",
      "535             Rajasthan Royals              Kings XI Punjab\n",
      "705        Kolkata Knight Riders               Delhi Capitals\n",
      "746               Mumbai Indians          Sunrisers Hyderabad\n"
     ]
    }
   ],
   "source": [
    "##q7\n",
    "filt=df[df['result']==\"tie\"]\n",
    "print(filt[['team1','team2']])"
   ]
  },
  {
   "cell_type": "code",
   "execution_count": 6,
   "id": "e87a640a-b2e5-4e76-a6e9-f4aa80e90fd2",
   "metadata": {},
   "outputs": [
    {
     "name": "stdout",
     "output_type": "stream",
     "text": [
      "43    Mumbai Indians\n",
      "Name: winner, dtype: object\n"
     ]
    }
   ],
   "source": [
    "##q8 \n",
    "high=df[df['win_by_runs']==df['win_by_runs'].value_counts().idxmin()]\n",
    "print(high['winner'])"
   ]
  },
  {
   "cell_type": "code",
   "execution_count": 7,
   "id": "9975d795-4247-4499-87f0-7a217f56da0b",
   "metadata": {},
   "outputs": [
    {
     "data": {
      "text/plain": [
       "np.int64(146)"
      ]
     },
     "execution_count": 7,
     "metadata": {},
     "output_type": "execute_result"
    }
   ],
   "source": [
    "##q9\n",
    "df['win_by_runs'].value_counts().idxmin()"
   ]
  },
  {
   "cell_type": "code",
   "execution_count": 8,
   "id": "9d40091d-ce62-4609-b168-f717e672e0b8",
   "metadata": {},
   "outputs": [
    {
     "name": "stdout",
     "output_type": "stream",
     "text": [
      "player_of_match\n",
      "CH Gayle          True\n",
      "AB de Villiers    True\n",
      "MS Dhoni          True\n",
      "RG Sharma         True\n",
      "DA Warner         True\n",
      "                  ... \n",
      "Mandeep Singh     True\n",
      "BA Stokes         True\n",
      "DJ Bravo          True\n",
      "KS Williamson     True\n",
      "L Balaji          True\n",
      "Name: count, Length: 83, dtype: bool ['player_of_match']\n"
     ]
    }
   ],
   "source": [
    "##q10\n",
    "potm=(df['player_of_match'].value_counts()>=3)\n",
    "print(potm[potm==True],['player_of_match'])"
   ]
  },
  {
   "cell_type": "code",
   "execution_count": 9,
   "id": "7f994767-d269-4d7f-92b6-b75b827a2e95",
   "metadata": {},
   "outputs": [
    {
     "data": {
      "text/plain": [
       "'CH Gayle'"
      ]
     },
     "execution_count": 9,
     "metadata": {},
     "output_type": "execute_result"
    }
   ],
   "source": [
    "##q11\n",
    "df['player_of_match'].value_counts().idxmax()"
   ]
  },
  {
   "cell_type": "code",
   "execution_count": 10,
   "id": "7f672e8e-993b-4693-9660-743ae01383bc",
   "metadata": {},
   "outputs": [
    {
     "data": {
      "text/plain": [
       "1        Maharashtra Cricket Association Stadium\n",
       "2         Saurashtra Cricket Association Stadium\n",
       "3                         Holkar Cricket Stadium\n",
       "5      Rajiv Gandhi International Stadium, Uppal\n",
       "6                               Wankhede Stadium\n",
       "                         ...                    \n",
       "750                            IS Bindra Stadium\n",
       "751                             Wankhede Stadium\n",
       "752                    M. A. Chidambaram Stadium\n",
       "753                             ACA-VDCA Stadium\n",
       "754                             ACA-VDCA Stadium\n",
       "Name: venue, Length: 419, dtype: object"
      ]
     },
     "execution_count": 10,
     "metadata": {},
     "output_type": "execute_result"
    }
   ],
   "source": [
    "##q12\n",
    "ven=df[df['win_by_runs']==df['win_by_runs'].value_counts().idxmax()]\n",
    "ven['venue']"
   ]
  },
  {
   "cell_type": "code",
   "execution_count": 11,
   "id": "a134d7a7-6660-41af-8a51-3f90235b5551",
   "metadata": {},
   "outputs": [
    {
     "name": "stdout",
     "output_type": "stream",
     "text": [
      "43    Feroz Shah Kotla\n",
      "Name: venue, dtype: object\n"
     ]
    }
   ],
   "source": [
    "##q13\n",
    "ven=df[df['win_by_runs']==df['win_by_runs'].value_counts().idxmin()]\n",
    "print(ven['venue'])"
   ]
  },
  {
   "cell_type": "code",
   "execution_count": 12,
   "id": "3f6eb233-51bc-4864-9f22-33da992c7d44",
   "metadata": {},
   "outputs": [
    {
     "name": "stdout",
     "output_type": "stream",
     "text": [
      "the umpire who has umpired for the longest time is \n",
      "\n",
      "\n",
      "S RaviRJ Tucker\n"
     ]
    }
   ],
   "source": [
    "##q14\n",
    "ump=(df['umpire1']+df['umpire2'])\n",
    "print(\"the umpire who has umpired for the longest time is \\n\\n\")\n",
    "print(ump.value_counts().idxmax())"
   ]
  },
  {
   "cell_type": "code",
   "execution_count": 13,
   "id": "cf6a0a5a-5d43-486a-899b-a99c6b4ecd53",
   "metadata": {},
   "outputs": [
    {
     "data": {
      "text/plain": [
       "season\n",
       "2013    76\n",
       "2012    74\n",
       "2011    73\n",
       "2010    60\n",
       "2016    60\n",
       "2018    60\n",
       "2019    60\n",
       "2014    60\n",
       "2017    59\n",
       "2015    59\n",
       "2008    58\n",
       "2009    57\n",
       "Name: count, dtype: int64"
      ]
     },
     "execution_count": 13,
     "metadata": {},
     "output_type": "execute_result"
    }
   ],
   "source": [
    "##q15\n",
    "df['season'].value_counts()"
   ]
  },
  {
   "cell_type": "code",
   "execution_count": 14,
   "id": "4188a0f3-6dfa-4dd9-beed-8c66177f386f",
   "metadata": {},
   "outputs": [
    {
     "name": "stdout",
     "output_type": "stream",
     "text": [
      "total runs in each season not given\n",
      "\n",
      "\n",
      " \n",
      "10042\n"
     ]
    }
   ],
   "source": [
    "##q16\n",
    "print(\"total runs in each season not given\\n\\n\\n \")\n",
    "##runs per match not given given\n",
    "print(df['win_by_runs'].sum())"
   ]
  },
  {
   "cell_type": "code",
   "execution_count": 15,
   "id": "e8812733-b65f-4415-800c-340e6879e068",
   "metadata": {},
   "outputs": [
    {
     "data": {
      "text/plain": [
       "toss_winner\n",
       "Mumbai Indians                 98\n",
       "Kolkata Knight Riders          92\n",
       "Chennai Super Kings            89\n",
       "Kings XI Punjab                81\n",
       "Royal Challengers Bangalore    81\n",
       "Delhi Daredevils               80\n",
       "Rajasthan Royals               80\n",
       "Sunrisers Hyderabad            46\n",
       "Deccan Chargers                43\n",
       "Pune Warriors                  20\n",
       "Gujarat Lions                  15\n",
       "Delhi Capitals                 10\n",
       "Kochi Tuskers Kerala            8\n",
       "Rising Pune Supergiants         7\n",
       "Rising Pune Supergiant          6\n",
       "Name: count, dtype: int64"
      ]
     },
     "execution_count": 15,
     "metadata": {},
     "output_type": "execute_result"
    }
   ],
   "source": [
    "##q17\n",
    "df['toss_winner'].value_counts()"
   ]
  },
  {
   "cell_type": "code",
   "execution_count": 16,
   "id": "345521e1-4c92-4e37-b00d-25772e9ad382",
   "metadata": {},
   "outputs": [
    {
     "data": {
      "image/png": "[encoded data removed]",
      "text/plain": [
       "<Figure size 640x480 with 1 Axes>"
      ]
     },
     "metadata": {},
     "output_type": "display_data"
    }
   ],
   "source": [
    "##q18\n",
    "x=df['season']\n",
    "y=df['toss_decision'].value_counts()\n",
    "plt.bar(y.index,y)\n",
    "plt.show()"
   ]
  },
  {
   "cell_type": "code",
   "execution_count": 17,
   "id": "eed33e48-a522-49e3-b8db-080121ee1385",
   "metadata": {},
   "outputs": [
    {
     "data": {
      "image/png": "[encoded data removed]",
      "text/plain": [
       "<Figure size 640x480 with 1 Axes>"
      ]
     },
     "metadata": {},
     "output_type": "display_data"
    }
   ],
   "source": [
    "##q21\n",
    "x=df['player_of_match']\n",
    "y=df['player_of_match'].value_counts()\n",
    "plt.bar(y.index,y)\n",
    "plt.show()"
   ]
  },
  {
   "cell_type": "code",
   "execution_count": 18,
   "id": "87875535-7882-4c61-8331-bd3de4a987db",
   "metadata": {},
   "outputs": [
    {
     "name": "stdout",
     "output_type": "stream",
     "text": [
      "Chennai Super Kings            164\n",
      "Deccan Chargers                 75\n",
      "Delhi Capitals                  16\n",
      "Delhi Daredevils               161\n",
      "Gujarat Lions                   30\n",
      "Kings XI Punjab                176\n",
      "Kochi Tuskers Kerala            14\n",
      "Kolkata Knight Riders          178\n",
      "Mumbai Indians                 187\n",
      "Pune Warriors                   46\n",
      "Rajasthan Royals               147\n",
      "Rising Pune Supergiant          16\n",
      "Rising Pune Supergiants         14\n",
      "Royal Challengers Bangalore    180\n",
      "Sunrisers Hyderabad            108\n",
      "Name: count, dtype: int64\n"
     ]
    }
   ],
   "source": [
    "##q22\n",
    "teams=(df['team1']+df['team2'])\n",
    "##print(teams.value_counts())\n",
    "n=(df['team1'].value_counts()+df['team2'].value_counts())\n",
    "print(n)"
   ]
  },
  {
   "cell_type": "code",
   "execution_count": 19,
   "id": "dc6dbd1c-fa04-4051-98d1-1eb2b2a4ca71",
   "metadata": {},
   "outputs": [
    {
     "name": "stdout",
     "output_type": "stream",
     "text": [
      "the ratio of winning to total matches playes is \n",
      "\n",
      "\n",
      "Chennai Super Kings            0.609756\n",
      "Deccan Chargers                0.386667\n",
      "Delhi Capitals                 0.625000\n",
      "Delhi Daredevils               0.416149\n",
      "Gujarat Lions                  0.433333\n",
      "Kings XI Punjab                0.465909\n",
      "Kochi Tuskers Kerala           0.428571\n",
      "Kolkata Knight Riders          0.516854\n",
      "Mumbai Indians                 0.582888\n",
      "Pune Warriors                  0.260870\n",
      "Rajasthan Royals               0.510204\n",
      "Rising Pune Supergiant         0.625000\n",
      "Rising Pune Supergiants        0.357143\n",
      "Royal Challengers Bangalore    0.466667\n",
      "Sunrisers Hyderabad            0.537037\n",
      "Name: count, dtype: float64\n"
     ]
    }
   ],
   "source": [
    "##q25\n",
    "print(\"the ratio of winning to total matches playes is \\n\\n\")\n",
    "n=df['winner'].value_counts()/(df['team1'].value_counts()+df['team2'].value_counts())\n",
    "print(n)"
   ]
  },
  {
   "cell_type": "code",
   "execution_count": 20,
   "id": "0644898f-d591-4303-b3c7-67e6bf5c8882",
   "metadata": {},
   "outputs": [
    {
     "name": "stdout",
     "output_type": "stream",
     "text": [
      "                     toss_winner toss_decision\n",
      "0    Royal Challengers Bangalore         field\n",
      "1         Rising Pune Supergiant         field\n",
      "2          Kolkata Knight Riders         field\n",
      "3                Kings XI Punjab         field\n",
      "4    Royal Challengers Bangalore           bat\n",
      "..                           ...           ...\n",
      "751               Mumbai Indians         field\n",
      "752          Chennai Super Kings           bat\n",
      "753               Delhi Capitals         field\n",
      "754          Chennai Super Kings         field\n",
      "755               Mumbai Indians           bat\n",
      "\n",
      "[756 rows x 2 columns]\n"
     ]
    },
    {
     "data": {
      "text/plain": [
       "toss_decision\n",
       "field    463\n",
       "bat      293\n",
       "Name: count, dtype: int64"
      ]
     },
     "execution_count": 20,
     "metadata": {},
     "output_type": "execute_result"
    }
   ],
   "source": [
    "##q26\n",
    "print(df[['toss_winner','toss_decision']])\n",
    "(df['toss_decision'].value_counts())"
   ]
  },
  {
   "cell_type": "code",
   "execution_count": null,
   "id": "365b4f38-cfc4-45d2-9b7d-15abd25f032e",
   "metadata": {},
   "outputs": [],
   "source": []
  },
  {
   "cell_type": "code",
   "execution_count": null,
   "id": "f81e28a4-1bd4-4068-af12-2f5511cddb32",
   "metadata": {},
   "outputs": [],
   "source": []
  },
  {
   "cell_type": "code",
   "execution_count": null,
   "id": "e491fb98-52a5-4d1c-8f02-2705ec44d55c",
   "metadata": {},
   "outputs": [],
   "source": []
  }
 ],
 "metadata": {
  "kernelspec": {
   "display_name": "Python 3 (ipykernel)",
   "language": "python",
   "name": "python3"
  },
  "language_info": {
   "codemirror_mode": {
    "name": "ipython",
    "version": 3
   },
   "file_extension": ".py",
   "mimetype": "text/x-python",
   "name": "python",
   "nbconvert_exporter": "python",
   "pygments_lexer": "ipython3",
   "version": "3.13.0"
  }
 },
 "nbformat": 4,
 "nbformat_minor": 5
}
