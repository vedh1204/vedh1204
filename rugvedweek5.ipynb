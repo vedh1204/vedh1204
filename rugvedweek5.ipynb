{
 "cells": [
  {
   "cell_type": "code",
   "execution_count": null,
   "id": "092c10a8-ff54-41c1-9c04-5231dd579969",
   "metadata": {},
   "outputs": [],
   "source": [
    "!pip install scikit-learn\n",
    "import pandas as pd\n",
    "import numpy as np\n",
    "import matplotlib.pyplot as plt\n",
    "import os\n",
    "from sklearn.preprocessing import StandardScaler\n",
    "from sklearn.neighbors import KNeighborsClassifier\n",
    "from sklearn.linear_model import LogisticRegression\n",
    "from sklearn.preprocessing import StandardScaler, OneHotEncoder\n",
    "from sklearn.compose import ColumnTransformer\n",
    "from sklearn.linear_model import LogisticRegression\n",
    "from sklearn.metrics import accuracy_score"
   ]
  },
  {
   "cell_type": "code",
   "execution_count": null,
   "id": "376a1f0c-8beb-457e-a333-3d49fd38b2aa",
   "metadata": {},
   "outputs": [],
   "source": [
    "name=[1,2,3,4,5,6,7,8,'type']\n",
    "df=pd.read_csv(\"magic04.data\",names=name)\n",
    "df.head()\n"
   ]
  },
  {
   "cell_type": "code",
   "execution_count": null,
   "id": "fd88e171-b6cd-40b1-8472-9d6505cb01c2",
   "metadata": {},
   "outputs": [],
   "source": [
    "for label in df['type'].unique():\n",
    "  plt.hist(df[df['type']==label][1],color='red',label='gamma',alpha=0.5,density='True')\n",
    "  plt.hist(df[df['type']==label][0],color='green',label='hedron',alpha=0.8,density='True')\n",
    "  plt.legend()\n",
    "  plt.show()"
   ]
  },
  {
   "cell_type": "code",
   "execution_count": null,
   "id": "cf877092-25b5-4e72-af5c-42f5a3c824f5",
   "metadata": {},
   "outputs": [],
   "source": [
    "def dataset(df):\n",
    "    x = df.iloc[:, :-1].values \n",
    "    y = df.iloc[:, -1].values \n",
    "    scaler = StandardScaler()\n",
    "    x = scaler.fit_transform(x) \n",
    "    data = np.hstack((x, np.reshape(y, (-1, 1)))) \n",
    "    return data, x, y\n",
    "print(5)\n",
    "data, x, y = dataset(df)"
   ]
  },
  {
   "cell_type": "code",
   "execution_count": null,
   "id": "c4f1d2ac-ce06-4b09-bec6-2e4b278b4353",
   "metadata": {},
   "outputs": [],
   "source": [
    "df=pd.read_csv(\"co2.csv\")\n",
    "df.head()\n",
    "train,validation,test= np.split(df.sample(frac=1,random_state=42),[int(0.6*len(df)),int(0.8*len(df))])\n",
    "def dataset(df):\n",
    "    x = df.iloc[:, :-1].values \n",
    "    y = df.iloc[:, -1].values   \n",
    "    data = np.hstack((x, np.reshape(y, (-1, 1))))  \n",
    "    return  x, y\n",
    "x_train, y_train = dataset(train)\n",
    "scaler = StandardScaler()\n",
    "x_train = scaler.fit_transform(x_train) \n",
    "from sklearn.linear_model import LogisticRegression\n",
    "model=LogisticRegression()\n",
    "model=model.fit(x_train,y_train)"
   ]
  },
  {
   "cell_type": "code",
   "execution_count": null,
   "id": "35b9abdc-4103-49a4-995e-4d75b1afe7ef",
   "metadata": {},
   "outputs": [],
   "source": [
    "print(df.columns)\n"
   ]
  },
  {
   "cell_type": "code",
   "execution_count": null,
   "id": "1433fe94-60d8-4f05-9342-4d05d75bddce",
   "metadata": {},
   "outputs": [],
   "source": [
    "print(\"All columns in x_train:\", x_train.columns.tolist())\n",
    "\n"
   ]
  },
  {
   "cell_type": "code",
   "execution_count": null,
   "id": "e3361d6f-e07c-482e-9358-3f4c986b635c",
   "metadata": {},
   "outputs": [],
   "source": [
    "print([col for col in x_train.columns if 'CO2' in col])\n"
   ]
  },
  {
   "cell_type": "code",
   "execution_count": null,
   "id": "7df5536c-a637-49b7-9153-861b92798c05",
   "metadata": {},
   "outputs": [],
   "source": [
    "x_train.rename(columns={\"CO2 Emissions(g/km)\": \"CO2 Emissions(g/km)\"}, inplace=True)\n",
    "print(\"All columns in x_train:\", x_train.columns.tolist())\n"
   ]
  },
  {
   "cell_type": "code",
   "execution_count": null,
   "id": "ae72aa18-7814-430f-9dfd-391847d3bcd2",
   "metadata": {},
   "outputs": [],
   "source": [
    "print([repr(col) for col in x_train.columns])"
   ]
  },
  {
   "cell_type": "code",
   "execution_count": null,
   "id": "dad6052d-0849-46c7-b623-55f26c4d5bef",
   "metadata": {},
   "outputs": [],
   "source": [
    "#log\n",
    "\n",
    "import pandas as pd\n",
    "from sklearn.model_selection import train_test_split\n",
    "from sklearn.preprocessing import StandardScaler, LabelEncoder\n",
    "from sklearn.linear_model import LogisticRegression\n",
    "from sklearn.metrics import accuracy_score, classification_report\n",
    "file_path = 'co2.csv' \n",
    "data = pd.read_csv(file_path)\n",
    "label_encoder = LabelEncoder()\n",
    "data['Transmission'] = label_encoder.fit_transform(data['Transmission'])\n",
    "data = pd.get_dummies(data, columns=['Make', 'Fuel Type', 'Vehicle Class'], drop_first=True)\n",
    "data = data.drop(['Model'], axis=1)\n",
    "X = data.drop(['Transmission'], axis=1)\n",
    "y = data['Transmission']  \n",
    "\n",
    "X_train, X_test, y_train, y_test = train_test_split(X, y, test_size=0.2, random_state=42)\n",
    "scaler = StandardScaler()\n",
    "X_train = scaler.fit_transform(X_train)\n",
    "X_test = scaler.transform(X_test)\n",
    "model.fit(X_train, y_train)\n",
    "y_pred = model.predict(X_test)\n",
    "accuracy = accuracy_score(y_test, y_pred)\n",
    "print(\"Accuracy:\", accuracy)\n",
    "print(\"\\nClassification Report:\\n\", classification_report(y_test, y_pred))\n",
    "\n",
    "\n"
   ]
  },
  {
   "cell_type": "code",
   "execution_count": null,
   "id": "9a3de1d9-e8a2-425b-a876-73bccc0515d0",
   "metadata": {},
   "outputs": [],
   "source": [
    "import pandas as pd\n",
    "import numpy as np\n",
    "import matplotlib.pyplot as plt\n",
    "from sklearn.model_selection import train_test_split\n",
    "from sklearn.linear_model import LinearRegression\n",
    "from sklearn.metrics import mean_squared_error, r2_score\n",
    "file_path = 'co2.csv' \n",
    "data = pd.read_csv(file_path)\n",
    "columns = ['Make', 'Vehicle Class', 'Transmission', 'Fuel Type']\n",
    "X = data.drop(['CO2 Emissions(g/km)', 'Model'], axis=1) \n",
    "y = data['CO2 Emissions(g/km)']\n",
    "X_train, X_test, y_train, y_test = train_test_split(X, y, test_size=0.2, random_state=42)\n",
    "model = LinearRegression()\n",
    "model.fit(X_train, y_train)\n",
    "y_pred = model.predict(X_test)\n",
    "mse = mean_squared_error(y_test, y_pred)\n",
    "r2 = r2_score(y_test, y_pred)\n",
    "print(\"Mean Squared Error:\", mse)\n",
    "print(\"R-squared:\", r2)\n",
    "print(\"Intercept:\", model.intercept_)\n"
   ]
  },
  {
   "cell_type": "code",
   "execution_count": null,
   "id": "dfb2f482-8b1e-42f0-8511-852311c48503",
   "metadata": {},
   "outputs": [],
   "source": [
    "## doubt not cleared \n",
    "\n",
    "import pandas as pd\n",
    "import tensorflow as tf\n",
    "from sklearn.model_selection import train_test_split\n",
    "from sklearn.metrics import mean_squared_error, r2_score\n",
    "from sklearn.preprocessing import StandardScaler\n",
    "file_path = 'co2.csv'  \n",
    "data = pd.read_csv(file_path)\n",
    "data = pd.get_dummies(data, columns=['Make', 'Transmission', 'Fuel Type', 'Vehicle Class'], drop_first=True)\n",
    "X = data.drop(['CO2 Emissions(g/km)'], axis=1)\n",
    "y = data['CO2 Emissions(g/km)']\n",
    "X_train, X_test, y_train, y_test = train_test_split(X, y, test_size=0.2, random_state=42)\n",
    "scaler = StandardScaler()\n",
    "X_train = scaler.fit_transform(X_train)\n",
    "X_test = scaler.transform(X_test)\n",
    "model = tf.keras.Sequential([tf.keras.layers.Input(shape=(X_train.shape[1],)),tf.keras.layers.Dense(1)  ])\n",
    "model.compile(optimizer='adam', loss='mse', metrics=['mae'])\n",
    "history = model.fit(X_train, y_train, epochs=50, batch_size=32, validation_split=0.2, verbose=1)\n",
    "y_pred = model.predict(X_test).flatten()\n",
    "mse = mean_squared_error(y_test, y_pred)\n",
    "r2 = r2_score(y_test, y_pred)\n",
    "print(\"Mean Squared Error:\", mse)\n",
    "print(\"R-squared:\", r2)"
   ]
  },
  {
   "cell_type": "code",
   "execution_count": null,
   "id": "ff5fcb67-4a0a-4a76-9a3f-5e449ba16304",
   "metadata": {},
   "outputs": [],
   "source": []
  },
  {
   "cell_type": "code",
   "execution_count": null,
   "id": "1e348681-c388-496d-a5b3-4e1ddb6235b5",
   "metadata": {},
   "outputs": [],
   "source": [
    "import pandas as pd\n",
    "import numpy as np\n",
    "import matplotlib.pyplot as plt\n",
    "from sklearn.model_selection import train_test_split\n",
    "from sklearn.linear_model import LinearRegression\n",
    "from sklearn.metrics import mean_squared_error, r2_score\n",
    "from sklearn.preprocessing import OneHotEncoder\n",
    "from sklearn.compose import ColumnTransformer\n",
    "f = 'co2.csv'  \n",
    "data = pd.read_csv(f)\n",
    "cat_columns = ['Make', 'Vehicle Class', 'Transmission', 'Fuel Type']\n",
    "X = data.drop(['CO2 Emissions(g/km)', 'Model'], axis=1)\n",
    "y = data['CO2 Emissions(g/km)']\n",
    "ct = ColumnTransformer(transformers=[('onehot', OneHotEncoder(drop='first'), cat_columns)],remainder='passthrough'  )\n",
    "X = ct.fit_transform(X)\n",
    "X_train, X_test, y_train, y_test = train_test_split(X, y, test_size=0.4, random_state=42)\n",
    "model = LinearRegression()\n",
    "model.fit(X_train, y_train)\n",
    "y_pred = model.predict(X_test)\n",
    "mse = mean_squared_error(y_test, y_pred)\n",
    "r2 = r2_score(y_test, y_pred)\n",
    "print(\"Mean Squared Error:\", mse)\n",
    "print(\"R-squared:\", r2)\n",
    "print(\"Intercept:\", model.intercept_)\n"
   ]
  },
  {
   "cell_type": "code",
   "execution_count": null,
   "id": "d050a1c3-1d7d-4254-9adc-a8fad32c6257",
   "metadata": {},
   "outputs": [],
   "source": []
  },
  {
   "cell_type": "code",
   "execution_count": null,
   "id": "1026c15f-0fef-4938-ac6a-8b648a36fbc1",
   "metadata": {},
   "outputs": [],
   "source": []
  },
  {
   "cell_type": "code",
   "execution_count": null,
   "id": "ccdce17f-b0de-4f43-ac7d-522a821b2646",
   "metadata": {},
   "outputs": [],
   "source": []
  },
  {
   "cell_type": "code",
   "execution_count": 1,
   "id": "6b7b446b-8d94-4789-9a1f-5c78ee8ff7fd",
   "metadata": {},
   "outputs": [],
   "source": [
    "import pandas as pd\n",
    "import numpy as np\n",
    "import matplotlib.pyplot as plt\n",
    "f = 'co2.csv'  \n",
    "df = pd.read_csv(f)\n",
    "x = df['Engine Size(L)']\n",
    "y = df['CO2 Emissions(g/km)']"
   ]
  },
  {
   "cell_type": "code",
   "execution_count": null,
   "id": "c1484db1-2d0a-4bed-8a35-c80ced32287d",
   "metadata": {},
   "outputs": [],
   "source": [
    "plt.scatter(x, y, color='blue', label='Data points')\n",
    "plt.xlabel('Engine Size (L)')\n",
    "plt.ylabel('CO2 Emissions (g/km)')\n",
    "plt.title('Engine Size vs CO2 Emissions')\n",
    "plt.show()"
   ]
  },
  {
   "cell_type": "code",
   "execution_count": 2,
   "id": "bc0a2d27-b494-443b-a147-b8675b0cd49a",
   "metadata": {},
   "outputs": [],
   "source": [
    "x_mean=np.mean(x)\n",
    "y_mean=np.mean(y)\n",
    "numerator=np.sum((x - x_mean) * (y - y_mean))  \n",
    "denominator=np.sum((x - x_mean) ** 2)          \n",
    "m=numerator/denominator                     \n",
    "b=y_mean-m*x_mean                          \n",
    "y_pred=m*x+b\n",
    "mse=np.mean((y-y_pred)**2)\n",
    "rmse=(mse)**0.5\n",
    "ss_total=np.sum((y-y_mean)**2)       \n",
    "ss_res = np.sum((y-y_pred)**2) \n",
    "r2=1-(ss_res/ss_total)"
   ]
  },
  {
   "cell_type": "code",
   "execution_count": 3,
   "id": "cc2eabd7-affe-48bb-9dea-8d95291df25a",
   "metadata": {},
   "outputs": [
    {
     "name": "stdout",
     "output_type": "stream",
     "text": [
      "MSE: 943.2916297051705\n",
      "RMSE: 30.713053083423187\n",
      "R2:0.724447204652408\n"
     ]
    }
   ],
   "source": [
    "print(f\"MSE: {mse}\")\n",
    "print(f\"RMSE: {rmse}\")\n",
    "print(f\"R2:{r2}\")"
   ]
  },
  {
   "cell_type": "code",
   "execution_count": null,
   "id": "63b9325c-25f5-4575-ab9e-e045a2a23325",
   "metadata": {},
   "outputs": [],
   "source": [
    "plt.figure(figsize=(8, 5))\n",
    "plt.scatter(x, y, color='blue', label='CO2 Emissions')  \n",
    "plt.plot(x[:2954], y_pred, color='red', label='Fitted line')\n",
    "plt.title('Line Graph: CO2 Emissions vs. Engine Size')\n",
    "plt.show()\n"
   ]
  },
  {
   "cell_type": "code",
   "execution_count": null,
   "id": "5e714b31-0bff-4c82-8252-62859fce0024",
   "metadata": {},
   "outputs": [],
   "source": [
    "sns.histplot(df['CO2 Emissions(g/km)'], kde=True, color='blue')\n",
    "plt.title('Distribution of CO2 Emissions')\n",
    "plt.show()"
   ]
  },
  {
   "cell_type": "code",
   "execution_count": null,
   "id": "5e0ed20c-4716-4c43-b520-6f510bd405fa",
   "metadata": {},
   "outputs": [],
   "source": []
  }
 ],
 "metadata": {
  "kernelspec": {
   "display_name": "Python 3 (ipykernel)",
   "language": "python",
   "name": "python3"
  },
  "language_info": {
   "codemirror_mode": {
    "name": "ipython",
    "version": 3
   },
   "file_extension": ".py",
   "mimetype": "text/x-python",
   "name": "python",
   "nbconvert_exporter": "python",
   "pygments_lexer": "ipython3",
   "version": "3.13.0"
  }
 },
 "nbformat": 4,
 "nbformat_minor": 5
}
