{
 "cells": [
  {
   "cell_type": "code",
   "execution_count": null,
   "id": "cc6dea14-3051-4286-bd52-b916f48c20f7",
   "metadata": {},
   "outputs": [],
   "source": [
    "import numpy as np\n",
    "import pandas as pd\n",
    "from sklearn.preprocessing import OneHotEncoder\n",
    "data = pd.read_csv('co2.csv')"
   ]
  },
  {
   "cell_type": "code",
   "execution_count": null,
   "id": "98a288d8-f963-4ee1-bb9e-c28e1218e4f3",
   "metadata": {},
   "outputs": [],
   "source": [
    "categorical_columns=['Make', 'Model', 'Transmission', 'Fuel Type', 'Vehicle Class']\n",
    "encoder=OneHotEncoder(sparse_output=False, drop='first')\n",
    "encoded_features=encoder.fit_transform(data[categorical_columns]\n",
    "X=data.drop(columns=['CO2 Emissions (g/km)', 'Make', 'Model', 'Transmission', 'Fuel Type', 'Vehicle Class']).values\n",
    "X= np.hstack((X,encoded_features))\n",
    "y=data['CO2 Emissions (g/km)'].values.reshape(-1, 1)\n",
    "\n",
    "\n",
    "# Used sklearn only for the one hott encoding"
   ]
  },
  {
   "cell_type": "code",
   "execution_count": null,
   "id": "1808f6c2-9e4f-4d8f-a46c-fe7c9eb4e04f",
   "metadata": {},
   "outputs": [],
   "source": [
    "np.random.seed(42)\n",
    "indices=np.arange(X.shape[0])\n",
    "np.random.shuffle(indices)\n",
    "split_index=int(0.6 * len(indices))\n",
    "train_indices=indices[:split_index]\n",
    "test_indices=indices[split_index:]\n",
    "X_train=X[train_indices]\n",
    "y_train=y[train_indices]\n",
    "X_test=X[test_indices]\n",
    "y_test=y[test_indices]\n",
    "X_train_bias=np.c_[np.ones((X_train.shape[0], 1)), X_train]\n",
    "X_test_bias=np.c_[np.ones((X_test.shape[0], 1)), X_test]"
   ]
  },
  {
   "cell_type": "code",
   "execution_count": null,
   "id": "1cdbf90a-5705-4ac2-ae42-28c017deeba8",
   "metadata": {},
   "outputs": [],
   "source": [
    "theta=np.random.randn(X_train_bias.shape[1],1) \n",
    "learning_rate=0.01\n",
    "iterations=1000"
   ]
  },
  {
   "cell_type": "code",
   "execution_count": null,
   "id": "ca1f53cf-8465-4174-977c-46705d6ebb60",
   "metadata": {},
   "outputs": [],
   "source": [
    "for i in range(iterations):\n",
    "    gradients=2/X_train_bias.shape[0]*X_train_bias.T@(X_train_bias@theta-y_train)\n",
    "    y_pred_train = X_train_bias @ theta\n",
    "    y_pred_test = X_test_bias @ theta"
   ]
  },
  {
   "cell_type": "code",
   "execution_count": null,
   "id": "7d456d3a-e614-4e6f-85fb-b10ae9eb1922",
   "metadata": {},
   "outputs": [],
   "source": [
    "def calculate_r2(y_true, y_pred):\n",
    "    ss_total = np.sum((y_true - np.mean(y_true)) ** 2) \n",
    "    ss_residual = np.sum((y_true - y_pred) ** 2)\n",
    "    r2 = 1 - (ss_residual / ss_total)\n",
    "    return r2"
   ]
  },
  {
   "cell_type": "code",
   "execution_count": null,
   "id": "d8b83262-9426-4aef-b4b7-88d83277d342",
   "metadata": {},
   "outputs": [],
   "source": [
    "test_mse=np.mean((y_pred_test-y_test)**2)\n",
    "test_r2=calculate_r2(y_test,y_pred_test)\n",
    "print(f\"MSE-{test_mse}\")\n",
    "print(f\"R2-{test_r2}\")"
   ]
  }
 ],
 "metadata": {
  "kernelspec": {
   "display_name": "Python 3 (ipykernel)",
   "language": "python",
   "name": "python3"
  },
  "language_info": {
   "codemirror_mode": {
    "name": "ipython",
    "version": 3
   },
   "file_extension": ".py",
   "mimetype": "text/x-python",
   "name": "python",
   "nbconvert_exporter": "python",
   "pygments_lexer": "ipython3",
   "version": "3.13.1"
  }
 },
 "nbformat": 4,
 "nbformat_minor": 5
}
